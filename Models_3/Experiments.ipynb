{
 "cells": [
  {
   "cell_type": "markdown",
   "metadata": {},
   "source": [
    "# Experiments "
   ]
  },
  {
   "cell_type": "markdown",
   "metadata": {},
   "source": [
    "This notebook contains some experiments like binary classification, three class classification and some interesting findings observed while building those models. The NDCG scorer used in the notebook is a script that was available in Kaggle. NDCG scorer: https://www.kaggle.com/davidgasquez/airbnb-recruiting-new-user-bookings/ndcg-scorer"
   ]
  },
  {
   "cell_type": "markdown",
   "metadata": {},
   "source": [
    "## Part 1 : date_first_booking based prediction model"
   ]
  },
  {
   "cell_type": "markdown",
   "metadata": {},
   "source": [
    "As seen during the exploratory analysis, 58% of the data has the country destination as 'NDF' (No Destination Found). Also, it was found that there is a 1-to-1 correlation betweeen NaN 'date_first_booking' and 'NDF'. That is, the date_first_booking is NaN for all the instances whose country destination is 'NDF'. \n",
    "\n",
    "So in this part, I am using this information to have a model which predicts the country_destination as NDF with the date_first_booking is NaN. Therefore I drop all the rows with country_destination as NDF from the training data and using RandomForest Classifier to train the remaining data. Once we get the prediction for the remaining countries, I append the prediction list with NDF for all the records in the test data that has the date_first_booking as NaN."
   ]
  },
  {
   "cell_type": "markdown",
   "metadata": {},
   "source": [
    "### Load data and split train-test data."
   ]
  },
  {
   "cell_type": "code",
   "execution_count": 50,
   "metadata": {
    "collapsed": false
   },
   "outputs": [],
   "source": [
    "import pandas as pd\n",
    "import numpy as np\n",
    "from sklearn import preprocessing\n",
    "from sklearn import cross_validation\n",
    "from sklearn.ensemble import RandomForestClassifier\n",
    "from sklearn.ensemble import AdaBoostClassifier\n",
    "from sklearn.tree import DecisionTreeClassifier\n",
    "\n",
    "data = pd.read_csv('preprocessed_airbnb_train.csv')\n",
    "labels = data.loc[:,'country_destination']\n",
    "data = data.drop(['country_destination'], axis=1)\n",
    "\n",
    "[tr_data, te_data, \n",
    " tr_labels, te_labels] = cross_validation.train_test_split(data, labels, random_state=20160202, test_size=0.33)"
   ]
  },
  {
   "cell_type": "code",
   "execution_count": 51,
   "metadata": {
    "collapsed": true
   },
   "outputs": [],
   "source": [
    "from sklearn.preprocessing import LabelBinarizer\n",
    "from sklearn.metrics import make_scorer\n",
    "\n",
    "def dcg_score(y_true, y_score, k=5):\n",
    "    order = np.argsort(y_score)[::-1]\n",
    "    y_true = np.take(y_true, order[:k])\n",
    "\n",
    "    gain = 2 ** y_true - 1\n",
    "\n",
    "    discounts = np.log2(np.arange(len(y_true)) + 2)\n",
    "    return np.sum(gain / discounts)\n",
    "\n",
    "#def ndcg_score(ground_truth, predictions, k=5):\n",
    "def ndcg_score(te_labels, predict, k):\n",
    "    lb = LabelBinarizer()\n",
    "    lb.fit(range(len(predict) + 1))\n",
    "    T = lb.transform(te_labels)\n",
    "\n",
    "    scores = []\n",
    "\n",
    "    # Iterate over each y_true and compute the DCG score\n",
    "    for y_true, y_score in zip(T, predict):\n",
    "        actual = dcg_score(y_true, y_score, k)\n",
    "        best = dcg_score(y_true, y_true, k)  \n",
    "        score = float(actual) / float(best)\n",
    "        scores.append(score)\n",
    "\n",
    "    return np.mean(scores)\n",
    "\n",
    "# NDCG Scorer function\n",
    "ndcg_scorer = make_scorer(ndcg_score, needs_proba=True, k=5)"
   ]
  },
  {
   "cell_type": "markdown",
   "metadata": {},
   "source": [
    "### Drop all NDF rows from the training set"
   ]
  },
  {
   "cell_type": "code",
   "execution_count": 58,
   "metadata": {
    "collapsed": false
   },
   "outputs": [],
   "source": [
    "train = tr_data.copy()\n",
    "train['country_destination'] = tr_labels\n",
    "\n",
    "# NDF is encoded as 0\n",
    "train_ndf_dropped = train[ train.country_destination != 0 ]\n",
    "\n",
    "tr_labels = train_ndf_dropped.loc[:,'country_destination']\n",
    "tr_data = train_ndf_dropped.drop(['country_destination'], axis=1)"
   ]
  },
  {
   "cell_type": "markdown",
   "metadata": {},
   "source": [
    "### Train using RandomForest"
   ]
  },
  {
   "cell_type": "code",
   "execution_count": 59,
   "metadata": {
    "collapsed": true
   },
   "outputs": [],
   "source": [
    "from sklearn.ensemble import RandomForestClassifier\n",
    "\n",
    "rf = RandomForestClassifier(n_estimators=600,criterion='gini', min_samples_leaf=50)\n",
    "rf = rf.fit(tr_data, tr_labels)"
   ]
  },
  {
   "cell_type": "code",
   "execution_count": 60,
   "metadata": {
    "collapsed": true
   },
   "outputs": [],
   "source": [
    "rf_predict = rf.predict_proba( te_data )"
   ]
  },
  {
   "cell_type": "markdown",
   "metadata": {},
   "source": [
    "### Modify the prediction, to mark 1.0 NDF probability for NaN date_first_booking and 0 for the rest"
   ]
  },
  {
   "cell_type": "code",
   "execution_count": 61,
   "metadata": {
    "collapsed": false
   },
   "outputs": [],
   "source": [
    "x = np.insert(rf_predict, 0, 0, axis=1)"
   ]
  },
  {
   "cell_type": "code",
   "execution_count": 62,
   "metadata": {
    "collapsed": false
   },
   "outputs": [],
   "source": [
    "te = te_data.copy()\n",
    "for i in range(12):\n",
    "    te['pr%d'%i] = x[:, i]"
   ]
  },
  {
   "cell_type": "code",
   "execution_count": 63,
   "metadata": {
    "collapsed": false
   },
   "outputs": [],
   "source": [
    "te.loc[ te.dfb_year == 0, 'pr0'] = 1.0\n",
    "for i in range(1,12):\n",
    "    te.loc[ te.dfb_year == 0, 'pr%d'%i] = 0.0"
   ]
  },
  {
   "cell_type": "code",
   "execution_count": 64,
   "metadata": {
    "collapsed": false
   },
   "outputs": [],
   "source": [
    "filter_col = [col for col in list(te) if col.startswith('pr')]\n",
    "rf_predict_fixed = te[filter_col].values"
   ]
  },
  {
   "cell_type": "markdown",
   "metadata": {},
   "source": [
    "### Get NDCG score for this model"
   ]
  },
  {
   "cell_type": "code",
   "execution_count": 65,
   "metadata": {
    "collapsed": false
   },
   "outputs": [
    {
     "name": "stdout",
     "output_type": "stream",
     "text": [
      "0.927350768403\n"
     ]
    }
   ],
   "source": [
    "score = ndcg_score(te_labels.as_matrix(), rf_predict_fixed, k=5)\n",
    "print score"
   ]
  },
  {
   "cell_type": "markdown",
   "metadata": {},
   "source": [
    "This shows that we can leverage the 1-to-1 coorelation information between certain values in the attribute and labels to improve the score drastically, though it might be biased."
   ]
  },
  {
   "cell_type": "markdown",
   "metadata": {},
   "source": [
    "## Part 2 : Linear regression & Decision Trees for NDF prediction"
   ]
  },
  {
   "cell_type": "markdown",
   "metadata": {},
   "source": [
    "Inorder to get a more realistic model, in this section I will try to build models on the preprocessed data without the date_first_booking information. \n",
    "\n",
    "The model here is a two level classifier. The first level is a Binary classifier which will predict whether the country is NDF or not. In the second level, a multi-class classifier will classify the data among the valid countries. The first level classifier is chosen by comparing the performance of Linear Regression and a boosted DecisionTree. The second level classifier is RandomForest."
   ]
  },
  {
   "cell_type": "markdown",
   "metadata": {},
   "source": [
    "### Update labels to classify as either NDF or non-NDF destination"
   ]
  },
  {
   "cell_type": "code",
   "execution_count": 11,
   "metadata": {
    "collapsed": false
   },
   "outputs": [],
   "source": [
    "# Drop date_first_booking information and perform StandardScaler on the remanining data\n",
    "ndf_data = data.drop(['dfb_year', 'dfb_month', 'dfb_day'], axis=1)\n",
    "ndf_data = pd.DataFrame(preprocessing.StandardScaler().fit_transform(ndf_data))\n",
    "\n",
    "[tr_data, te_data, \n",
    " tr_labels, te_labels] = cross_validation.train_test_split(ndf_data, labels, random_state=20160202, test_size=0.33)\n",
    "\n",
    "tr_labels_adjusted = tr_labels.copy()\n",
    "# Mark all valid countries as 1 and NDF as 0\n",
    "tr_labels_adjusted.loc[ tr_labels_adjusted[::] > 0 ] = 1"
   ]
  },
  {
   "cell_type": "markdown",
   "metadata": {},
   "source": [
    "### Binary classifier using Linear Regression"
   ]
  },
  {
   "cell_type": "code",
   "execution_count": 12,
   "metadata": {
    "collapsed": true
   },
   "outputs": [],
   "source": [
    "from sklearn.linear_model import LinearRegression\n",
    "\n",
    "lr = LinearRegression()\n",
    "lr.fit(tr_data, tr_labels_adjusted.values.ravel())\n",
    "\n",
    "lr_predict = lr.predict(te_data)"
   ]
  },
  {
   "cell_type": "code",
   "execution_count": 13,
   "metadata": {
    "collapsed": false
   },
   "outputs": [
    {
     "name": "stdout",
     "output_type": "stream",
     "text": [
      "0.595408793424\n"
     ]
    }
   ],
   "source": [
    "lr_predict_corrected_2 = [ 1 if v > 0.5 else 0 for v in lr_predict.flatten()]\n",
    "te_labels_adjusted = te_labels.copy()\n",
    "te_labels_adjusted.loc[ te_labels_adjusted[::] > 0 ] = 1\n",
    "correct = 0\n",
    "for l, t in zip(te_labels_adjusted, lr_predict_corrected_2):\n",
    "    if l==t:\n",
    "        correct += 1\n",
    "\n",
    "print float(correct)/float(len(te_labels_adjusted))"
   ]
  },
  {
   "cell_type": "markdown",
   "metadata": {},
   "source": [
    "Since Linear Regression doesn't classify the NDF labels very well, I will also try a model using boosted decision trees."
   ]
  },
  {
   "cell_type": "markdown",
   "metadata": {},
   "source": [
    "### Binary classifier using AdaBoost Decision Tree"
   ]
  },
  {
   "cell_type": "code",
   "execution_count": 14,
   "metadata": {
    "collapsed": false
   },
   "outputs": [],
   "source": [
    "dt = AdaBoostClassifier(DecisionTreeClassifier(max_depth = 1),\n",
    "                         n_estimators=200)\n",
    "dt.fit(tr_data, tr_labels_adjusted.values.ravel())\n",
    "dt_predict = dt.predict(te_data)"
   ]
  },
  {
   "cell_type": "code",
   "execution_count": 15,
   "metadata": {
    "collapsed": false
   },
   "outputs": [],
   "source": [
    "dt_predict_corrected = [ 0 if v > 0.5 else 1 for v in dt_predict.flatten()]"
   ]
  },
  {
   "cell_type": "code",
   "execution_count": 16,
   "metadata": {
    "collapsed": false
   },
   "outputs": [
    {
     "name": "stdout",
     "output_type": "stream",
     "text": [
      "0.68476270248\n"
     ]
    }
   ],
   "source": [
    "dt_predict_corrected_2 = [ 1 if v > 0.5 else 0 for v in dt_predict.flatten()]\n",
    "te_labels_adjusted = te_labels.copy()\n",
    "te_labels_adjusted.loc[ te_labels_adjusted[::] > 0 ] = 1\n",
    "correct = 0\n",
    "for l, t in zip(te_labels_adjusted, dt_predict_corrected_2):\n",
    "    if l==t:\n",
    "        correct += 1\n",
    "\n",
    "print float(correct)/float(len(te_labels_adjusted))"
   ]
  },
  {
   "cell_type": "markdown",
   "metadata": {},
   "source": [
    "The Boosted decision tree gave an accuracy score of 0.68 which is better than Linear Regression"
   ]
  },
  {
   "cell_type": "markdown",
   "metadata": {},
   "source": [
    "### Second level classification using Random Forest"
   ]
  },
  {
   "cell_type": "code",
   "execution_count": 17,
   "metadata": {
    "collapsed": false
   },
   "outputs": [],
   "source": [
    "tr_nndf = tr_data.copy()\n",
    "tr_nndf['cd'] = tr_labels\n",
    "# Drop all rows with NDF as country_destination\n",
    "tr_nndf = tr_nndf[ tr_nndf.cd != 0 ]\n",
    "tr_nndf_labels = tr_nndf.cd\n",
    "tr_nndf_data = tr_nndf.drop(['cd'], axis=1)"
   ]
  },
  {
   "cell_type": "code",
   "execution_count": 18,
   "metadata": {
    "collapsed": false
   },
   "outputs": [],
   "source": [
    "rf = RandomForestClassifier(n_estimators=600,criterion='gini', min_samples_leaf=50)\n",
    "rf = rf.fit(tr_nndf_data, tr_nndf_labels)"
   ]
  },
  {
   "cell_type": "code",
   "execution_count": 19,
   "metadata": {
    "collapsed": false
   },
   "outputs": [],
   "source": [
    "rf_predict = rf.predict_proba( te_data )"
   ]
  },
  {
   "cell_type": "code",
   "execution_count": 20,
   "metadata": {
    "collapsed": false
   },
   "outputs": [
    {
     "data": {
      "text/html": [
       "<div>\n",
       "<table border=\"1\" class=\"dataframe\">\n",
       "  <thead>\n",
       "    <tr style=\"text-align: right;\">\n",
       "      <th></th>\n",
       "      <th>pr0</th>\n",
       "    </tr>\n",
       "  </thead>\n",
       "  <tbody>\n",
       "    <tr>\n",
       "      <th>147199</th>\n",
       "      <td>1</td>\n",
       "    </tr>\n",
       "    <tr>\n",
       "      <th>160436</th>\n",
       "      <td>0</td>\n",
       "    </tr>\n",
       "    <tr>\n",
       "      <th>21630</th>\n",
       "      <td>0</td>\n",
       "    </tr>\n",
       "    <tr>\n",
       "      <th>81016</th>\n",
       "      <td>0</td>\n",
       "    </tr>\n",
       "    <tr>\n",
       "      <th>164941</th>\n",
       "      <td>1</td>\n",
       "    </tr>\n",
       "  </tbody>\n",
       "</table>\n",
       "</div>"
      ],
      "text/plain": [
       "        pr0\n",
       "147199    1\n",
       "160436    0\n",
       "21630     0\n",
       "81016     0\n",
       "164941    1"
      ]
     },
     "execution_count": 20,
     "metadata": {},
     "output_type": "execute_result"
    }
   ],
   "source": [
    "# Include the prediction of NDF by the DecisionTree\n",
    "te = te_data.copy()\n",
    "te['pr0'] = dt_predict_corrected\n",
    "filter_col = [col for col in list(te) if str(col).startswith('pr')]\n",
    "te[filter_col].head()"
   ]
  },
  {
   "cell_type": "code",
   "execution_count": 21,
   "metadata": {
    "collapsed": false
   },
   "outputs": [],
   "source": [
    "# Include the prediction of valid countries by RandomForest\n",
    "for i in range(1, 12):   \n",
    "    te['pr%d'%i] = rf_predict[:, i-1]\n",
    "filter_col = ['pr%d'%i for i in range(1,12)]\n",
    "\n",
    "te.loc[te.pr0 == 1, filter_col] = 0\n",
    "\n",
    "filter_col = ['pr%d'%i for i in range(0,12)]\n"
   ]
  },
  {
   "cell_type": "code",
   "execution_count": 22,
   "metadata": {
    "collapsed": false
   },
   "outputs": [],
   "source": [
    "filter_col = [col for col in list(te) if str(col).startswith('pr')]\n",
    "rf_predict_fixed = te[filter_col].values"
   ]
  },
  {
   "cell_type": "code",
   "execution_count": 23,
   "metadata": {
    "collapsed": false
   },
   "outputs": [
    {
     "name": "stdout",
     "output_type": "stream",
     "text": [
      "0.648915147581\n"
     ]
    }
   ],
   "source": [
    "# Use both to get nDCG score\n",
    "score = ndcg_score(te_labels.as_matrix(), rf_predict_fixed, k=5)\n",
    "print score"
   ]
  },
  {
   "cell_type": "markdown",
   "metadata": {},
   "source": [
    "The nDCG score 0.65 is worse compared to the single level Random forest classifier."
   ]
  },
  {
   "cell_type": "markdown",
   "metadata": {},
   "source": [
    "## Part 3 : Binary classification for US/Non-US prediction without NDF"
   ]
  },
  {
   "cell_type": "markdown",
   "metadata": {},
   "source": [
    "In this part I am trying to come up with a model to predict the valid countries. Hence dropping all the rows with NDF as country_destination. In the data exploration part, it can be seen that almost 30% data has the country_destination as U.S.A. So in this model, I am using Linear Regression, Boosted Decision Tree and LinearSVC to classify between US and non-US and select the the best method. "
   ]
  },
  {
   "cell_type": "code",
   "execution_count": 24,
   "metadata": {
    "collapsed": false
   },
   "outputs": [],
   "source": [
    "data = pd.read_csv('preprocessed_airbnb_train.csv')\n",
    "data = data[ data.country_destination != 0 ]\n",
    "labels = data.loc[:,'country_destination']\n",
    "data = data.drop(['country_destination'], axis=1)\n",
    "\n",
    "data = pd.DataFrame(preprocessing.StandardScaler().fit_transform(data))\n",
    "\n",
    "[tr_data, te_data, \n",
    " tr_labels, te_labels] = cross_validation.train_test_split(data, labels, random_state=20160202, test_size=0.33)\n",
    "\n",
    "tr_labels_adjusted = tr_labels.copy()\n",
    "# Mark all non-US countries as 0 and US is 1\n",
    "tr_labels_adjusted.loc[ tr_labels_adjusted[::] > 1 ] = 0"
   ]
  },
  {
   "cell_type": "markdown",
   "metadata": {},
   "source": [
    "### Binary classifier using LinearSVC"
   ]
  },
  {
   "cell_type": "code",
   "execution_count": 25,
   "metadata": {
    "collapsed": false
   },
   "outputs": [],
   "source": [
    "from sklearn.linear_model import LinearRegression\n",
    "from sklearn.svm import LinearSVC\n",
    "\n",
    "svc = LinearSVC()\n",
    "svc.fit(tr_data, tr_labels_adjusted.values.ravel())\n",
    "svc_predict = svc.predict(te_data)"
   ]
  },
  {
   "cell_type": "code",
   "execution_count": 26,
   "metadata": {
    "collapsed": false
   },
   "outputs": [
    {
     "name": "stdout",
     "output_type": "stream",
     "text": [
      "0.7030334015\n"
     ]
    }
   ],
   "source": [
    "svc_predict_corrected_2 = [ 1 if v > 0.5 else 0 for v in svc_predict.flatten()]\n",
    "te_labels_adjusted = te_labels.copy()\n",
    "te_labels_adjusted.loc[ te_labels_adjusted[::] > 1 ] = 0\n",
    "correct = 0\n",
    "for l, t in zip(te_labels_adjusted, svc_predict):\n",
    "    if l==t:\n",
    "        correct += 1\n",
    "\n",
    "print float(correct)/float(len(te_labels_adjusted))"
   ]
  },
  {
   "cell_type": "markdown",
   "metadata": {},
   "source": [
    "### Binary classifier using AdaBoost Decision Tree"
   ]
  },
  {
   "cell_type": "code",
   "execution_count": 27,
   "metadata": {
    "collapsed": false
   },
   "outputs": [],
   "source": [
    "dt = AdaBoostClassifier(DecisionTreeClassifier(max_depth=1),\n",
    "                         n_estimators=200)\n",
    "dt.fit(tr_data, tr_labels_adjusted.values.ravel())\n",
    "dt_predict = dt.predict(te_data)"
   ]
  },
  {
   "cell_type": "code",
   "execution_count": 28,
   "metadata": {
    "collapsed": false
   },
   "outputs": [
    {
     "name": "stdout",
     "output_type": "stream",
     "text": [
      "0.7030334015\n"
     ]
    }
   ],
   "source": [
    "dt_predict_corrected_2 = [ 1 if v > 0.5 else 0 for v in dt_predict.flatten()]\n",
    "te_labels_adjusted = te_labels.copy()\n",
    "te_labels_adjusted.loc[ te_labels_adjusted[::] > 1 ] = 0\n",
    "correct = 0\n",
    "for l, t in zip(te_labels_adjusted, dt_predict_corrected_2):\n",
    "    if l==t:\n",
    "        correct += 1\n",
    "\n",
    "print float(correct)/float(len(te_labels_adjusted))"
   ]
  },
  {
   "cell_type": "markdown",
   "metadata": {},
   "source": [
    "### Binary classifier using Linear Regression"
   ]
  },
  {
   "cell_type": "code",
   "execution_count": 29,
   "metadata": {
    "collapsed": true
   },
   "outputs": [],
   "source": [
    "lr = LinearRegression()\n",
    "\n",
    "lr.fit(tr_data, tr_labels_adjusted.values.ravel())\n",
    "lr_predict = lr.predict(te_data)"
   ]
  },
  {
   "cell_type": "code",
   "execution_count": 30,
   "metadata": {
    "collapsed": false
   },
   "outputs": [
    {
     "name": "stdout",
     "output_type": "stream",
     "text": [
      "0.703067484663\n"
     ]
    }
   ],
   "source": [
    "lr_predict_corrected_2 = [ 1 if v > 0.5 else 0 for v in lr_predict.flatten()]\n",
    "te_labels_adjusted = te_labels.copy()\n",
    "te_labels_adjusted.loc[ te_labels_adjusted[::] > 1 ] = 0\n",
    "correct = 0\n",
    "for l, t in zip(te_labels_adjusted, lr_predict_corrected_2):\n",
    "    if l==t:\n",
    "        correct += 1\n",
    "\n",
    "print float(correct)/float(len(te_labels_adjusted))"
   ]
  },
  {
   "cell_type": "markdown",
   "metadata": {},
   "source": [
    "It can be seen that all the three models gave an accuracy of 70%. This is because, after removing the NDF values, 70% of the data belong to US. A blind prediction of US to all the instances would give the same accuracy score. The data is highly skewed and none of the models gave an accuracy better than the baseline of 70%."
   ]
  },
  {
   "cell_type": "code",
   "execution_count": 31,
   "metadata": {
    "collapsed": false
   },
   "outputs": [
    {
     "name": "stdout",
     "output_type": "stream",
     "text": [
      "0.701326438849\n",
      "0.701292861158\n",
      "0.701371711266\n",
      "0.701338131114\n",
      "0.7017208413\n",
      "0.701687289089\n",
      "0.701653729328\n",
      "0.701620162016\n",
      "0.70158658715\n",
      "0.702082160945\n"
     ]
    }
   ],
   "source": [
    "from sklearn.linear_model import LinearRegression\n",
    "\n",
    "def folds_to_split(data,targets,train,test):\n",
    "    data_tr = pd.DataFrame(data).iloc[train]\n",
    "    data_te = pd.DataFrame(data).iloc[test]\n",
    "    labels_tr = pd.DataFrame(targets).iloc[train]\n",
    "    labels_te = pd.DataFrame(targets).iloc[test]\n",
    "    return [data_tr, data_te, labels_tr, labels_te]\n",
    "\n",
    "results = pd.DataFrame()\n",
    "foldnum=0\n",
    "for train, test in cross_validation.StratifiedKFold(labels.values.ravel(), shuffle=True, n_folds=10,\n",
    "                                           random_state=20160217):\n",
    "    foldnum+=1\n",
    "    [tr_data, te_data, tr_labels, te_labels] = folds_to_split(data, labels, train, test)\n",
    "\n",
    "    tr_labels_adjusted = tr_labels.copy()\n",
    "    # Mark all non-US countries as 0 and US is 1\n",
    "    tr_labels_adjusted = np.array([0 if x > 1 else 1 for x in tr_labels_adjusted.values.ravel()])\n",
    "    \n",
    "    lr = LinearRegression()\n",
    "    lr.fit(tr_data, tr_labels_adjusted)\n",
    "    lr_predict = lr.predict(te_data)\n",
    "    \n",
    "    lr_predict_corrected_2 = [ 1 if v > 0.5 else 0 for v in lr_predict.flatten()]\n",
    "    te_labels_adjusted = te_labels.copy()\n",
    "    te_labels_adjusted = np.array([0 if x > 1 else 1 for x in te_labels_adjusted.values.ravel()])\n",
    "    correct = 0\n",
    "    for l, t in zip(te_labels_adjusted, lr_predict_corrected_2):\n",
    "        if l==t:\n",
    "            correct += 1\n",
    "\n",
    "    print float(correct)/float(len(te_labels_adjusted))"
   ]
  },
  {
   "cell_type": "markdown",
   "metadata": {},
   "source": [
    "Even the stratified kFold validation gives the same accuracy."
   ]
  },
  {
   "cell_type": "markdown",
   "metadata": {},
   "source": [
    "### Trying to change the proportion of US and Non-US countries"
   ]
  },
  {
   "cell_type": "code",
   "execution_count": 32,
   "metadata": {
    "collapsed": false
   },
   "outputs": [
    {
     "data": {
      "text/plain": [
       "1     62376\n",
       "2     10094\n",
       "3      5023\n",
       "4      2835\n",
       "5      2324\n",
       "6      2249\n",
       "7      1428\n",
       "8      1061\n",
       "9       762\n",
       "10      539\n",
       "11      217\n",
       "Name: country_destination, dtype: int64"
      ]
     },
     "execution_count": 32,
     "metadata": {},
     "output_type": "execute_result"
    }
   ],
   "source": [
    "labels.value_counts()"
   ]
  },
  {
   "cell_type": "markdown",
   "metadata": {},
   "source": [
    "It can be seen from the above distribution of the labels that there is a disproportionate number of countries labelled as US. So I tried to balance the dataset by sampling only 25,000 records which had the labels as US. "
   ]
  },
  {
   "cell_type": "code",
   "execution_count": 36,
   "metadata": {
    "collapsed": true
   },
   "outputs": [],
   "source": [
    "data = pd.read_csv('preprocessed_airbnb_train.csv')\n",
    "data = data[ data.country_destination != 0 ]\n",
    "data_us = data[ data.country_destination == 1 ]\n",
    "data_us = data_us.sample(n=25000)\n",
    "data = data[ data.country_destination != 1 ]\n",
    "data = data.append( data_us )\n",
    "\n",
    "labels = data.loc[:,'country_destination']\n",
    "data = data.drop(['country_destination'], axis=1)\n",
    "\n",
    "data = pd.DataFrame(preprocessing.StandardScaler().fit_transform(data))\n",
    "\n",
    "[tr_data, te_data, \n",
    " tr_labels, te_labels] = cross_validation.train_test_split(data, labels, random_state=20160202, test_size=0.33)\n",
    "\n",
    "tr_labels_adjusted = tr_labels.copy()\n",
    "# Mark all non-US countries as 0 and US is 1\n",
    "tr_labels_adjusted.loc[ tr_labels_adjusted[::] > 1 ] = 0"
   ]
  },
  {
   "cell_type": "code",
   "execution_count": 37,
   "metadata": {
    "collapsed": true
   },
   "outputs": [],
   "source": [
    "lr = LinearRegression()\n",
    "\n",
    "lr.fit(tr_data, tr_labels_adjusted.values.ravel())\n",
    "lr_predict = lr.predict(te_data)"
   ]
  },
  {
   "cell_type": "code",
   "execution_count": 38,
   "metadata": {
    "collapsed": false
   },
   "outputs": [
    {
     "name": "stdout",
     "output_type": "stream",
     "text": [
      "0.525638010114\n"
     ]
    }
   ],
   "source": [
    "lr_predict_corrected_2 = [ 1 if v > 0.5 else 0 for v in lr_predict.flatten()]\n",
    "te_labels_adjusted = te_labels.copy()\n",
    "te_labels_adjusted.loc[ te_labels_adjusted[::] > 1 ] = 0\n",
    "correct = 0\n",
    "for l, t in zip(te_labels_adjusted, lr_predict_corrected_2):\n",
    "    if l==t:\n",
    "        correct += 1\n",
    "\n",
    "print float(correct)/float(len(te_labels_adjusted))"
   ]
  },
  {
   "cell_type": "markdown",
   "metadata": {},
   "source": [
    "Unfortunately this modelling also did not improve the baseline accuracy. "
   ]
  },
  {
   "cell_type": "markdown",
   "metadata": {},
   "source": [
    "## Part 4 : 3 Class Prediction"
   ]
  },
  {
   "cell_type": "markdown",
   "metadata": {},
   "source": [
    "Since the majority of the data is NDF or US, it would be interesting to see the performance of a model that predicts whether it is US, NDF or other. So, the labels are modified such that all the countries other than 'NDF' and 'US' is changed to 'other'"
   ]
  },
  {
   "cell_type": "code",
   "execution_count": 43,
   "metadata": {
    "collapsed": false
   },
   "outputs": [],
   "source": [
    "data = pd.read_csv('preprocessed_airbnb_train.csv')\n",
    "data = data.drop(['dfb_year', 'dfb_month', 'dfb_day'], axis=1)\n",
    "labels = data.loc[:,'country_destination']\n",
    "labels.loc[ labels[::] > 1 ] = 2\n",
    "data = data.drop(['country_destination'], axis=1)\n",
    "\n",
    "data = pd.DataFrame(preprocessing.StandardScaler().fit_transform(data))\n",
    "\n",
    "[tr_data, te_data, \n",
    " tr_labels, te_labels] = cross_validation.train_test_split(data, labels, random_state=20160202, test_size=0.33)\n"
   ]
  },
  {
   "cell_type": "code",
   "execution_count": 45,
   "metadata": {
    "collapsed": false
   },
   "outputs": [],
   "source": [
    "rf = RandomForestClassifier(n_estimators=600,criterion='gini', min_samples_leaf=50, random_state=20160202)\n",
    "rf = rf.fit(tr_data, tr_labels)\n",
    "rf_predict = rf.predict_proba( te_data )"
   ]
  },
  {
   "cell_type": "code",
   "execution_count": 46,
   "metadata": {
    "collapsed": false
   },
   "outputs": [
    {
     "name": "stdout",
     "output_type": "stream",
     "text": [
      "0.845515158034\n"
     ]
    }
   ],
   "source": [
    "score = ndcg_score(te_labels.as_matrix(), rf_predict, k=3)\n",
    "print score"
   ]
  },
  {
   "cell_type": "code",
   "execution_count": 47,
   "metadata": {
    "collapsed": false
   },
   "outputs": [
    {
     "data": {
      "text/plain": [
       "0.6252076264569344"
      ]
     },
     "execution_count": 47,
     "metadata": {},
     "output_type": "execute_result"
    }
   ],
   "source": [
    "rf.score(te_data, te_labels_012)"
   ]
  },
  {
   "cell_type": "markdown",
   "metadata": {},
   "source": [
    "The nDCG score is 0.845 which is pretty good for this model."
   ]
  }
 ],
 "metadata": {
  "kernelspec": {
   "display_name": "Python 2",
   "language": "python",
   "name": "python2"
  },
  "language_info": {
   "codemirror_mode": {
    "name": "ipython",
    "version": 2
   },
   "file_extension": ".py",
   "mimetype": "text/x-python",
   "name": "python",
   "nbconvert_exporter": "python",
   "pygments_lexer": "ipython2",
   "version": "2.7.11"
  }
 },
 "nbformat": 4,
 "nbformat_minor": 0
}
