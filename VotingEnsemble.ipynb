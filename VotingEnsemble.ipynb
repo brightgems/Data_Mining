{
 "cells": [
  {
   "cell_type": "markdown",
   "metadata": {},
   "source": [
    "# Ensemble - Voting Classifier"
   ]
  },
  {
   "cell_type": "markdown",
   "metadata": {},
   "source": [
    "This notebook makes a VotingClassifier based on the model made by each one of us. "
   ]
  },
  {
   "cell_type": "code",
   "execution_count": 8,
   "metadata": {
    "collapsed": false
   },
   "outputs": [],
   "source": [
    "import pandas as pd\n",
    "import numpy as np\n",
    "from sklearn import preprocessing\n",
    "from sklearn import cross_validation\n",
    "from sklearn import tree\n",
    "from sklearn.lda import LDA\n",
    "from sklearn.linear_model import LogisticRegression\n",
    "from sklearn.naive_bayes import GaussianNB\n",
    "from sklearn.preprocessing import LabelBinarizer\n",
    "from sklearn.metrics import make_scorer\n",
    "\n",
    "data = pd.read_csv('preprocessed_airbnb_train.csv')\n",
    "labels = data.loc[:,'country_destination']\n",
    "data = data.drop(['country_destination'], axis=1)\n",
    "\n",
    "def folds_to_split(data,targets,train,test):\n",
    "    data_tr = pd.DataFrame(data).iloc[train]\n",
    "    data_te = pd.DataFrame(data).iloc[test]\n",
    "    labels_tr = pd.DataFrame(targets).iloc[train]\n",
    "    labels_te = pd.DataFrame(targets).iloc[test]\n",
    "    return [data_tr, data_te, labels_tr, labels_te]\n",
    "\n",
    "def dcg_score(y_true, y_score, k=5):\n",
    "    order = np.argsort(y_score)[::-1]\n",
    "    y_true = np.take(y_true, order[:k])\n",
    "\n",
    "    gain = 2 ** y_true - 1\n",
    "\n",
    "    discounts = np.log2(np.arange(len(y_true)) + 2)\n",
    "    return np.sum(gain / discounts)\n",
    "\n",
    "def ndcg_score(te_labels, predict, k):\n",
    "    lb = LabelBinarizer()\n",
    "    lb.fit(range(len(predict) + 1))\n",
    "    T = lb.transform(te_labels)\n",
    "    scores = []\n",
    "\n",
    "    for y_true, y_score in zip(T, predict):\n",
    "        actual = dcg_score(y_true, y_score, k)\n",
    "        best = dcg_score(y_true, y_true, k)  \n",
    "        score = float(actual) / float(best)\n",
    "        scores.append(score)\n",
    "\n",
    "    return np.mean(scores)\n",
    "\n",
    "ndcg_scorer = make_scorer(ndcg_score, needs_proba=True, k=5)\n"
   ]
  },
  {
   "cell_type": "code",
   "execution_count": 9,
   "metadata": {
    "collapsed": true
   },
   "outputs": [],
   "source": [
    "data_nodfb = data.drop(['dfb_year', 'dfb_month', 'dfb_day'], axis=1)\n",
    "data_nodfb = pd.DataFrame(preprocessing.StandardScaler().fit_transform(data_nodfb))"
   ]
  },
  {
   "cell_type": "code",
   "execution_count": 10,
   "metadata": {
    "collapsed": false
   },
   "outputs": [
    {
     "name": "stdout",
     "output_type": "stream",
     "text": [
      "Fold : 1, Score : 0.809589552543\n",
      "Fold : 2, Score : 0.812621984435\n",
      "Fold : 3, Score : 0.811497845515\n",
      "Fold : 4, Score : 0.809999930544\n",
      "Fold : 5, Score : 0.811094357633\n",
      "Fold : 6, Score : 0.809554808346\n",
      "Fold : 7, Score : 0.809155676903\n",
      "Fold : 8, Score : 0.809756483481\n",
      "Fold : 9, Score : 0.808593910069\n",
      "Fold : 10, Score : 0.8098782337\n"
     ]
    },
    {
     "name": "stderr",
     "output_type": "stream",
     "text": [
      "/Users/poornima/anaconda/lib/python2.7/site-packages/sklearn/discriminant_analysis.py:453: UserWarning: The priors do not sum to 1. Renormalizing\n",
      "  UserWarning)\n"
     ]
    }
   ],
   "source": [
    "from sklearn.ensemble import VotingClassifier\n",
    "\n",
    "foldnum=0\n",
    "results = pd.DataFrame()\n",
    "for train, test in cross_validation.KFold(len(data_nodfb), shuffle=True, n_folds=10,\n",
    "                                           random_state=20160217):\n",
    "    foldnum+=1\n",
    "    [tr_data, te_data, tr_labels, te_labels] = folds_to_split(data_nodfb, labels, train, test)\n",
    "    lr = LogisticRegression(solver='liblinear', penalty='l1')\n",
    "    dtree = tree.DecisionTreeClassifier(criterion='gini', max_leaf_nodes=10)\n",
    "    lda = LDA()\n",
    "    vclf = VotingClassifier(estimators=[('lr', lr), ('dtree', dtree), ('lda', lda)], voting='soft')\n",
    "    vclf = vclf.fit(tr_data, tr_labels.values.ravel())\n",
    "    vclf_predict = vclf.predict_proba(te_data) \n",
    "    score = ndcg_score(te_labels.as_matrix(), vclf_predict, k=5)\n",
    "    print 'Fold : {}, Score : {}'.format( foldnum, score )\n",
    "    results.loc[foldnum, 'voting ensemble' ] = score"
   ]
  },
  {
   "cell_type": "code",
   "execution_count": 11,
   "metadata": {
    "collapsed": false
   },
   "outputs": [
    {
     "data": {
      "text/plain": [
       "voting ensemble    0.810174\n",
       "dtype: float64"
      ]
     },
     "execution_count": 11,
     "metadata": {},
     "output_type": "execute_result"
    }
   ],
   "source": [
    "results.mean()"
   ]
  },
  {
   "cell_type": "code",
   "execution_count": null,
   "metadata": {
    "collapsed": true
   },
   "outputs": [],
   "source": []
  }
 ],
 "metadata": {
  "kernelspec": {
   "display_name": "Python 2",
   "language": "python",
   "name": "python2"
  },
  "language_info": {
   "codemirror_mode": {
    "name": "ipython",
    "version": 2
   },
   "file_extension": ".py",
   "mimetype": "text/x-python",
   "name": "python",
   "nbconvert_exporter": "python",
   "pygments_lexer": "ipython2",
   "version": "2.7.11"
  }
 },
 "nbformat": 4,
 "nbformat_minor": 0
}
